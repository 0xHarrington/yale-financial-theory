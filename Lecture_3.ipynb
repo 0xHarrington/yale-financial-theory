{
 "cells": [
  {
   "cell_type": "markdown",
   "metadata": {},
   "source": [
    "## Lecture 3: Computing Equilibrium\n",
    "\n",
    "[Computing Equilibrium](https://www.youtube.com/watch?v=8ITrtcbyTWw&list=PLlwF7ocKStyTYSJhIntn2uaU5Yaf9E6Ij&index=3)\n",
    "\n",
    "This notebook implmenets the examples discussed in lecture three of the yale financial theory course (ECON 251). Specifically, we aim to find the equilibrium prices for a simple two-agent, double-auction market containing only two goods: x & y. \n",
    "\n",
    "The notebook considers the following inputs:\n",
    "\n",
    "- $u^a(x^a, y^a): \\mathbb{R}^2 \\rightarrow \\mathbb{R}^2$, the utility functions for agent a\n",
    "- $u^b(x^b, y^b): \\mathbb{R}^2 \\rightarrow \\mathbb{R}^2$, the utility functions for agent b\n",
    "- $e^a_x$, Agent a's initial endowment of the good x\n",
    "- $e^a_y$, Agent a's initial endowment of the good y\n",
    "- $e^b_x$, Agent b's initial endowment of the good x\n",
    "- $e^b_y$, Agent b's initial endowment of the good y\n",
    "\n",
    "And produces the following outputs:\n",
    "\n",
    "- $P_x$, the price of x at equilibrium\n",
    "- $P_y$, the price of y at equilibrium\n",
    "\n",
    "Where one of the two prices = 1"
   ]
  },
  {
   "cell_type": "markdown",
   "metadata": {},
   "source": [
    "### We'll use the following for our notes and first example:\n",
    "\n",
    "- $e^a_x = 2000$\n",
    "- $e^a_y = 39$\n",
    "- $e^b_x = 4000$\n",
    "- $e^b_y = 10$\n",
    "\n",
    "#### Let the utility functions be defined as:\n",
    "\n",
    "$u_a = 100x_a - \\frac{1}{2}x_a^2 + y_a$\n",
    "\n",
    "$u_b = \\frac{3}{4}\\ln{x_b} + \\frac{1}{4}\\ln{y_b} $\n",
    "\n",
    "#### The budget sets, how much the agent's initial endowment is worth according to the market:\n",
    "\n",
    "$P_xe_x^a + P_ye_y^a \\Rightarrow 2000P_x + 39P_y$\n",
    "\n",
    "$P_xe_x^b + P_ye_y^b \\Rightarrow 4000P_x + 10P_y$\n",
    "\n",
    "#### Using agent a's Utiltiy function, it follows that the marginal utilities are the following:\n",
    "\n",
    "$\\frac{MU_x(x^a, y^a)}{P_x} = \\frac{MU_y(x^a, y^a)}{P_y} \\Rightarrow \\frac{100 - x}{P_x} = \\frac{1}{P_y}$\n",
    "\n",
    "$\\frac{MU_x(x^b, y^b)}{P_x} = \\frac{MU_y(x^b, y^b)}{P_y} \\Rightarrow \\frac{\\frac{3}{4}}{xP_x} = \\frac{\\frac{1}{4}}{yP_y}$\n",
    "\n",
    "#### We also know total amount of both goods x & y can never be greater than the sum of the agents' endowments:\n",
    "\n",
    "$x_a + x_b = e_x^a + e_x^b$\n",
    "\n",
    "$y_a + y_b = e_y^a + e_y^b$\n"
   ]
  },
  {
   "cell_type": "markdown",
   "metadata": {},
   "source": [
    "**We'll let $P_x = 1$ for this notebook**. \n",
    "\n",
    "We'll conpute each agent's utility curves noww with agent b's. Their utilitiy function is a Cobb-Douglas utility function (double logarithmic). It's therefore evident that the agent will spend his capital in the ratio corresponding to the coefficients in his utility function:\n",
    "\n",
    "$u_b = \\frac{3}{4}\\ln{x_b} + \\frac{1}{4}\\ln{y_b}$\n",
    "\n",
    "In this case, the agent will spend 75% of their capital on $x$, and the remaining 25% on $y$:\n",
    "\n",
    "$x^b = \\frac{\\frac{3}{4}(4000(1) + 10P_y)}{(1)}$\n",
    "\n",
    "$y^b = \\frac{\\frac{1}{4}(4000(1) + 10P_y)}{P_y}$"
   ]
  },
  {
   "cell_type": "markdown",
   "metadata": {},
   "source": [
    "We also have agent a's marginal utility function equality:\n",
    "\n",
    "$\\frac{100 - x^a}{(1)} = \\frac{1}{P_y} \\Rightarrow x^a = 100 - \\frac{1}{P_y}$\n",
    "\n",
    "Since we know the total amount of items in the market, we have the following:\n",
    "\n",
    "$x_a + x_b = e_x^a + e_x^b$\n",
    "\n",
    "$(x_a + x_b) \\rightarrow (100 - \\frac{1}{P_y}) + \\frac{3}{4}(4000(1) + 10P_y) = 3100 + 7.5P_y - \\frac{1}{P_y}$\n",
    "\n",
    "$(e_x^a + e_x^b) \\rightarrow 6000 = 3100 + 7.5P_y - \\frac{1}{P_y} \\rightarrow 7.5P_y^2 - 2900p_y - 1 = 0$\n",
    "\n",
    "$P_y = \\frac{2900 +/- \\sqrt{2900^2-4(7.5)(-1)}}{2(7.5)} = ?$"
   ]
  },
  {
   "cell_type": "markdown",
   "metadata": {},
   "source": [
    "**Without loss of generality, don't worrry about the last market \"clearing\"**. Consider 5 of the 6 main equations  above are clearing, except one of the two market size constraints. *If the first market is clearing, a rational economy will also clear the second market*"
   ]
  },
  {
   "cell_type": "code",
   "execution_count": 75,
   "metadata": {},
   "outputs": [],
   "source": [
    "import numpy\n",
    "import math"
   ]
  },
  {
   "cell_type": "markdown",
   "metadata": {},
   "source": [
    "$$u_a = 100x_a - \\frac{1}{2}x_a^2 + y_a$$\n",
    "\n",
    "$$u_b = \\frac{3}{4}\\ln{x_b} + \\frac{1}{4}\\ln{y_b}$$"
   ]
  },
  {
   "cell_type": "code",
   "execution_count": 103,
   "metadata": {},
   "outputs": [],
   "source": [
    "e_a_x = 20\n",
    "e_a_y = 352\n",
    "\n",
    "e_b_x = 1000\n",
    "e_b_y = 100"
   ]
  },
  {
   "cell_type": "code",
   "execution_count": 104,
   "metadata": {},
   "outputs": [
    {
     "name": "stdout",
     "output_type": "stream",
     "text": [
      "75.0 -170.0 -1\n"
     ]
    }
   ],
   "source": [
    "end_x = e_a_x + e_b_x\n",
    "\n",
    "a = (0.75 * e_b_y)\n",
    "b = ((0.75 * e_b_x) + 100) - end_x\n",
    "c = -1\n",
    "\n",
    "print(a, b, c)"
   ]
  },
  {
   "cell_type": "code",
   "execution_count": 105,
   "metadata": {},
   "outputs": [
    {
     "name": "stdout",
     "output_type": "stream",
     "text": [
      "------------------------------------------------\n",
      "The price of Y is higher by 5.16 times!\n",
      "Agent A is richer by 1.21 times!\n",
      "------------------------------------------------\n",
      "Equilibrium Prices of Y relative to X:\t\t[2.27:1]\n",
      "Equilibrium Prices of X relative to Y:\t\t[0.44:1]\n",
      "------------------------------------------------\n",
      "Agent A final wealth: $807.8399999999999\n",
      "Agent B final wealth: $667.0\n",
      "------------------------------------------------\n"
     ]
    }
   ],
   "source": [
    "d = (b**2) - (4*a*c)\n",
    "p_y_plus = (- b + math.sqrt(d)) / (2 * a) \n",
    "p_y_mins = (- b - math.sqrt(d)) / (2 * a)\n",
    "P_y = round(max(p_y_plus, p_y_mins), 2)\n",
    "P_x = round(1 / P_y , 2)\n",
    "\n",
    "price_result = \"X\"\n",
    "price_ratio = round(P_x /  P_y, 2)\n",
    "if P_y > P_x: \n",
    "    price_result = \"Y\" \n",
    "    price_ratio = round(P_y /  P_x, 2)\n",
    "    \n",
    "a_wealth = (e_a_x * P_x) + (e_a_y * P_y)\n",
    "b_wealth = (e_b_x * P_x) + (e_b_y * P_y)    \n",
    "\n",
    "wealth_result = \"A\"\n",
    "wealth_ratio = round(a_wealth /  b_wealth, 2)\n",
    "if b_wealth > a_wealth: \n",
    "    wealth_result = \"B\"\n",
    "    wealth_ratio = round(b_wealth / a_wealth, 2)\n",
    "\n",
    "print(\"------------------------------------------------\")\n",
    "print(\"The price of {} is higher by {} times!\".format(price_result, price_ratio))\n",
    "print(\"Agent {} is richer by {} times!\".format(wealth_result, wealth_ratio))\n",
    "print(\"------------------------------------------------\")\n",
    "print(\"Equilibrium Prices of Y relative to X:\\t\\t[{}:1]\".format(str(P_y)))\n",
    "print(\"Equilibrium Prices of X relative to Y:\\t\\t[{}:1]\".format(str(P_x)))\n",
    "print(\"------------------------------------------------\")\n",
    "print(\"Agent A final wealth: ${}\".format(str(a_wealth)))\n",
    "print(\"Agent B final wealth: ${}\".format(str(b_wealth)))\n",
    "print(\"------------------------------------------------\")"
   ]
  },
  {
   "cell_type": "code",
   "execution_count": null,
   "metadata": {},
   "outputs": [],
   "source": []
  }
 ],
 "metadata": {
  "kernelspec": {
   "display_name": "Python 3",
   "language": "python",
   "name": "python3"
  },
  "language_info": {
   "codemirror_mode": {
    "name": "ipython",
    "version": 3
   },
   "file_extension": ".py",
   "mimetype": "text/x-python",
   "name": "python",
   "nbconvert_exporter": "python",
   "pygments_lexer": "ipython3",
   "version": "3.7.7"
  }
 },
 "nbformat": 4,
 "nbformat_minor": 4
}
